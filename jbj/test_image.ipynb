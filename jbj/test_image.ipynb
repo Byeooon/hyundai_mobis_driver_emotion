{
 "cells": [
  {
   "cell_type": "code",
   "execution_count": 3,
   "id": "464b9512",
   "metadata": {},
   "outputs": [
    {
     "name": "stdout",
     "output_type": "stream",
     "text": [
      "Requirement already satisfied: pyrealsense2 in c:\\users\\jbj\\anaconda3\\envs\\jbj\\lib\\site-packages (2.56.5.9235)\n",
      "Note: you may need to restart the kernel to use updated packages.\n"
     ]
    }
   ],
   "source": [
    "pip install pyrealsense2"
   ]
  },
  {
   "cell_type": "code",
   "execution_count": 4,
   "id": "d9865574",
   "metadata": {},
   "outputs": [
    {
     "data": {
      "text/plain": [
       "'2.0.1'"
      ]
     },
     "execution_count": 4,
     "metadata": {},
     "output_type": "execute_result"
    }
   ],
   "source": [
    "import numpy\n",
    "numpy.__version__"
   ]
  },
  {
   "cell_type": "code",
   "execution_count": 1,
   "id": "e86f5470",
   "metadata": {},
   "outputs": [
    {
     "name": "stdout",
     "output_type": "stream",
     "text": [
      "발견된 장치: Intel RealSense D435, 시리얼 번호: 043322071182\n"
     ]
    }
   ],
   "source": [
    "import pyrealsense2 as rs\n",
    "\n",
    "# RealSense 컨텍스트 생성\n",
    "ctx = rs.context()\n",
    "devices = ctx.query_devices()\n",
    "\n",
    "if len(devices) > 0:\n",
    "    for dev in devices:\n",
    "        name = dev.get_info(rs.camera_info.name)\n",
    "        serial = dev.get_info(rs.camera_info.serial_number)\n",
    "        print(f\"발견된 장치: {name}, 시리얼 번호: {serial}\")\n",
    "else:\n",
    "    print(\"연결된 Intel RealSense 장치가 없습니다.\")"
   ]
  },
  {
   "cell_type": "code",
   "execution_count": 4,
   "id": "4e9030c9",
   "metadata": {},
   "outputs": [
    {
     "name": "stdout",
     "output_type": "stream",
     "text": [
      "IR Emitter OFF (점 무늬 제거됨)\n",
      "스트리밍 시작 (종료하려면 q 누르세요)\n",
      "스트리밍 종료\n"
     ]
    }
   ],
   "source": [
    "import pyrealsense2 as rs\n",
    "import numpy as np\n",
    "import cv2\n",
    "\n",
    "# RealSense 파이프라인 설정\n",
    "pipeline = rs.pipeline()\n",
    "config = rs.config()\n",
    "\n",
    "# 컬러 스트림 (RGB)\n",
    "config.enable_stream(rs.stream.color, 640, 480, rs.format.bgr8, 30)\n",
    "\n",
    "# 적외선 스트림 (왼쪽 IR 카메라)\n",
    "config.enable_stream(rs.stream.infrared, 1, 640, 480, rs.format.y8, 30)\n",
    "\n",
    "# 스트리밍 시작\n",
    "profile = pipeline.start(config)\n",
    "\n",
    "# --- 프로젝터(Emitter) 끄기 ---\n",
    "device = profile.get_device()\n",
    "for sensor in device.query_sensors():\n",
    "    if sensor.supports(rs.option.emitter_enabled):\n",
    "        sensor.set_option(rs.option.emitter_enabled, 0)  # 0=OFF, 1=ON\n",
    "print(\"IR Emitter OFF (점 무늬 제거됨)\")\n",
    "\n",
    "print(\"스트리밍 시작 (종료하려면 q 누르세요)\")\n",
    "\n",
    "try:\n",
    "    while True:\n",
    "        frames = pipeline.wait_for_frames()\n",
    "\n",
    "        color_frame = frames.get_color_frame()\n",
    "        ir_frame = frames.get_infrared_frame(1)\n",
    "\n",
    "        if not color_frame or not ir_frame:\n",
    "            continue\n",
    "\n",
    "        # numpy 배열 변환\n",
    "        color_image = np.asanyarray(color_frame.get_data())\n",
    "        ir_image = np.asanyarray(ir_frame.get_data())  # 흑백 그대로\n",
    "        ir_image = cv2.cvtColor(ir_image, cv2.COLOR_GRAY2BGR)\n",
    "        \n",
    "        # 화면 출력\n",
    "        cv2.imshow(\"Color Stream\", color_image)\n",
    "        cv2.imshow(\"IR Gray (Emitter OFF)\", ir_image)\n",
    "\n",
    "        if cv2.waitKey(1) & 0xFF == ord('q'):\n",
    "            break\n",
    "finally:\n",
    "    pipeline.stop()\n",
    "    cv2.destroyAllWindows()\n",
    "    print(\"스트리밍 종료\")\n"
   ]
  },
  {
   "cell_type": "code",
   "execution_count": 5,
   "id": "9aee0121",
   "metadata": {},
   "outputs": [
    {
     "name": "stdout",
     "output_type": "stream",
     "text": [
      "Device: Intel RealSense D435\n",
      "  Sensor: Stereo Module\n",
      "    Stream: stream.infrared, format.y8, 1280x720 @ 6fps\n",
      "    Stream: stream.infrared, format.y8, 848x480 @ 10fps\n",
      "    Stream: stream.infrared, format.y8, 848x480 @ 8fps\n",
      "    Stream: stream.infrared, format.y8, 848x480 @ 6fps\n",
      "    Stream: stream.infrared, format.y8, 640x480 @ 30fps\n",
      "    Stream: stream.infrared, format.y8, 640x480 @ 15fps\n",
      "    Stream: stream.infrared, format.y8, 640x480 @ 6fps\n",
      "    Stream: stream.infrared, format.y8, 640x360 @ 30fps\n",
      "    Stream: stream.infrared, format.y8, 480x270 @ 60fps\n",
      "    Stream: stream.infrared, format.y8, 480x270 @ 30fps\n",
      "    Stream: stream.infrared, format.y8, 480x270 @ 15fps\n",
      "    Stream: stream.infrared, format.y8, 480x270 @ 6fps\n",
      "    Stream: stream.infrared, format.y8, 1280x720 @ 6fps\n",
      "    Stream: stream.infrared, format.y8, 848x480 @ 10fps\n",
      "    Stream: stream.infrared, format.y8, 848x480 @ 8fps\n",
      "    Stream: stream.infrared, format.y8, 848x480 @ 6fps\n",
      "    Stream: stream.infrared, format.y8, 640x480 @ 30fps\n",
      "    Stream: stream.infrared, format.y8, 640x480 @ 15fps\n",
      "    Stream: stream.infrared, format.y8, 640x480 @ 6fps\n",
      "    Stream: stream.infrared, format.y8, 640x360 @ 30fps\n",
      "    Stream: stream.infrared, format.y8, 480x270 @ 60fps\n",
      "    Stream: stream.infrared, format.y8, 480x270 @ 30fps\n",
      "    Stream: stream.infrared, format.y8, 480x270 @ 15fps\n",
      "    Stream: stream.infrared, format.y8, 480x270 @ 6fps\n",
      "    Stream: stream.depth, format.z16, 1280x720 @ 6fps\n",
      "    Stream: stream.depth, format.z16, 848x480 @ 10fps\n",
      "    Stream: stream.depth, format.z16, 848x480 @ 8fps\n",
      "    Stream: stream.depth, format.z16, 848x480 @ 6fps\n",
      "    Stream: stream.depth, format.z16, 640x480 @ 30fps\n",
      "    Stream: stream.depth, format.z16, 640x480 @ 15fps\n",
      "    Stream: stream.depth, format.z16, 640x480 @ 6fps\n",
      "    Stream: stream.depth, format.z16, 640x360 @ 30fps\n",
      "    Stream: stream.depth, format.z16, 480x270 @ 60fps\n",
      "    Stream: stream.depth, format.z16, 480x270 @ 30fps\n",
      "    Stream: stream.depth, format.z16, 480x270 @ 15fps\n",
      "    Stream: stream.depth, format.z16, 480x270 @ 6fps\n",
      "    Stream: stream.depth, format.z16, 256x144 @ 90fps\n",
      "  Sensor: RGB Camera\n",
      "    Stream: stream.color, format.rgb8, 1920x1080 @ 8fps\n",
      "    Stream: stream.color, format.y8, 1920x1080 @ 8fps\n",
      "    Stream: stream.color, format.bgra8, 1920x1080 @ 8fps\n",
      "    Stream: stream.color, format.rgba8, 1920x1080 @ 8fps\n",
      "    Stream: stream.color, format.bgr8, 1920x1080 @ 8fps\n",
      "    Stream: stream.color, format.yuyv, 1920x1080 @ 8fps\n",
      "    Stream: stream.color, format.rgb8, 1280x720 @ 15fps\n",
      "    Stream: stream.color, format.rgb8, 1280x720 @ 10fps\n",
      "    Stream: stream.color, format.rgb8, 1280x720 @ 6fps\n",
      "    Stream: stream.color, format.y8, 1280x720 @ 15fps\n",
      "    Stream: stream.color, format.y8, 1280x720 @ 10fps\n",
      "    Stream: stream.color, format.y8, 1280x720 @ 6fps\n",
      "    Stream: stream.color, format.bgra8, 1280x720 @ 15fps\n",
      "    Stream: stream.color, format.bgra8, 1280x720 @ 10fps\n",
      "    Stream: stream.color, format.bgra8, 1280x720 @ 6fps\n",
      "    Stream: stream.color, format.rgba8, 1280x720 @ 15fps\n",
      "    Stream: stream.color, format.rgba8, 1280x720 @ 10fps\n",
      "    Stream: stream.color, format.rgba8, 1280x720 @ 6fps\n",
      "    Stream: stream.color, format.bgr8, 1280x720 @ 15fps\n",
      "    Stream: stream.color, format.bgr8, 1280x720 @ 10fps\n",
      "    Stream: stream.color, format.bgr8, 1280x720 @ 6fps\n",
      "    Stream: stream.color, format.yuyv, 1280x720 @ 15fps\n",
      "    Stream: stream.color, format.yuyv, 1280x720 @ 10fps\n",
      "    Stream: stream.color, format.yuyv, 1280x720 @ 6fps\n",
      "    Stream: stream.color, format.rgb8, 640x480 @ 30fps\n",
      "    Stream: stream.color, format.rgb8, 640x480 @ 15fps\n",
      "    Stream: stream.color, format.rgb8, 640x480 @ 6fps\n",
      "    Stream: stream.color, format.y8, 640x480 @ 30fps\n",
      "    Stream: stream.color, format.y8, 640x480 @ 15fps\n",
      "    Stream: stream.color, format.y8, 640x480 @ 6fps\n",
      "    Stream: stream.color, format.bgra8, 640x480 @ 30fps\n",
      "    Stream: stream.color, format.bgra8, 640x480 @ 15fps\n",
      "    Stream: stream.color, format.bgra8, 640x480 @ 6fps\n",
      "    Stream: stream.color, format.rgba8, 640x480 @ 30fps\n",
      "    Stream: stream.color, format.rgba8, 640x480 @ 15fps\n",
      "    Stream: stream.color, format.rgba8, 640x480 @ 6fps\n",
      "    Stream: stream.color, format.bgr8, 640x480 @ 30fps\n",
      "    Stream: stream.color, format.bgr8, 640x480 @ 15fps\n",
      "    Stream: stream.color, format.bgr8, 640x480 @ 6fps\n",
      "    Stream: stream.color, format.yuyv, 640x480 @ 30fps\n",
      "    Stream: stream.color, format.yuyv, 640x480 @ 15fps\n",
      "    Stream: stream.color, format.yuyv, 640x480 @ 6fps\n",
      "    Stream: stream.color, format.rgb8, 424x240 @ 60fps\n",
      "    Stream: stream.color, format.rgb8, 424x240 @ 30fps\n",
      "    Stream: stream.color, format.rgb8, 424x240 @ 15fps\n",
      "    Stream: stream.color, format.rgb8, 424x240 @ 6fps\n",
      "    Stream: stream.color, format.y8, 424x240 @ 60fps\n",
      "    Stream: stream.color, format.y8, 424x240 @ 30fps\n",
      "    Stream: stream.color, format.y8, 424x240 @ 15fps\n",
      "    Stream: stream.color, format.y8, 424x240 @ 6fps\n",
      "    Stream: stream.color, format.bgra8, 424x240 @ 60fps\n",
      "    Stream: stream.color, format.bgra8, 424x240 @ 30fps\n",
      "    Stream: stream.color, format.bgra8, 424x240 @ 15fps\n",
      "    Stream: stream.color, format.bgra8, 424x240 @ 6fps\n",
      "    Stream: stream.color, format.rgba8, 424x240 @ 60fps\n",
      "    Stream: stream.color, format.rgba8, 424x240 @ 30fps\n",
      "    Stream: stream.color, format.rgba8, 424x240 @ 15fps\n",
      "    Stream: stream.color, format.rgba8, 424x240 @ 6fps\n",
      "    Stream: stream.color, format.bgr8, 424x240 @ 60fps\n",
      "    Stream: stream.color, format.bgr8, 424x240 @ 30fps\n",
      "    Stream: stream.color, format.bgr8, 424x240 @ 15fps\n",
      "    Stream: stream.color, format.bgr8, 424x240 @ 6fps\n",
      "    Stream: stream.color, format.yuyv, 424x240 @ 60fps\n",
      "    Stream: stream.color, format.yuyv, 424x240 @ 30fps\n",
      "    Stream: stream.color, format.yuyv, 424x240 @ 15fps\n",
      "    Stream: stream.color, format.yuyv, 424x240 @ 6fps\n"
     ]
    }
   ],
   "source": [
    "import pyrealsense2 as rs\n",
    "\n",
    "# 연결된 장치 목록 확인\n",
    "ctx = rs.context()\n",
    "for dev in ctx.query_devices():\n",
    "    print(\"Device:\", dev.get_info(rs.camera_info.name))\n",
    "\n",
    "    # 각 센서 확인\n",
    "    for sensor in dev.query_sensors():\n",
    "        print(\"  Sensor:\", sensor.get_info(rs.camera_info.name))\n",
    "\n",
    "        # 지원하는 스트림 프로필 확인\n",
    "        for profile in sensor.get_stream_profiles():\n",
    "            vprofile = profile.as_video_stream_profile()\n",
    "            print(f\"    Stream: {vprofile.stream_type()}, \"\n",
    "                  f\"{vprofile.format()}, \"\n",
    "                  f\"{vprofile.width()}x{vprofile.height()} @ {vprofile.fps()}fps\")\n"
   ]
  },
  {
   "cell_type": "code",
   "execution_count": 3,
   "id": "dfa01a11",
   "metadata": {},
   "outputs": [
    {
     "name": "stdout",
     "output_type": "stream",
     "text": [
      "D400\n",
      "gd\n",
      "<pyrealsense2.sensor: \"Stereo Module\">\n",
      "33\n",
      "<pyrealsense2.sensor: \"RGB Camera\">\n",
      "1\n"
     ]
    }
   ],
   "source": [
    "pipeline_wrapper = rs.pipeline_wrapper(pipeline)\n",
    "pipeline_profile = config.resolve(pipeline_wrapper)\n",
    "device = pipeline_profile.get_device()\n",
    "device_product_line = str(device.get_info(rs.camera_info.product_line))\n",
    "print(device_product_line)\n",
    "if device_product_line == 'D400':\n",
    "      print('gd')\n",
    "else:\n",
    "      print(333)\n",
    "for s in device.sensors:\n",
    "        print(s)\n",
    "        if s.get_info(rs.camera_info.name) == 'RGB Camera':\n",
    "            print(1)\n",
    "        else:\n",
    "              print(33)"
   ]
  },
  {
   "cell_type": "code",
   "execution_count": 38,
   "id": "dff6ffe6",
   "metadata": {},
   "outputs": [
    {
     "data": {
      "text/plain": [
       "'c:\\\\Users\\\\jbj\\\\Desktop\\\\과제\\\\모비스 감정인식\\\\data_collection'"
      ]
     },
     "execution_count": 38,
     "metadata": {},
     "output_type": "execute_result"
    }
   ],
   "source": [
    "import os\n",
    "os.getcwd()"
   ]
  },
  {
   "cell_type": "markdown",
   "id": "9fc24c9c",
   "metadata": {},
   "source": []
  }
 ],
 "metadata": {
  "kernelspec": {
   "display_name": "base",
   "language": "python",
   "name": "python3"
  },
  "language_info": {
   "codemirror_mode": {
    "name": "ipython",
    "version": 3
   },
   "file_extension": ".py",
   "mimetype": "text/x-python",
   "name": "python",
   "nbconvert_exporter": "python",
   "pygments_lexer": "ipython3",
   "version": "3.12.7"
  }
 },
 "nbformat": 4,
 "nbformat_minor": 5
}
